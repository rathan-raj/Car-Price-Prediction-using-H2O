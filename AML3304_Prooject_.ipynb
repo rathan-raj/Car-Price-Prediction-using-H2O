{
  "nbformat": 4,
  "nbformat_minor": 0,
  "metadata": {
    "colab": {
      "provenance": [],
      "gpuType": "T4"
    },
    "kernelspec": {
      "name": "python3",
      "display_name": "Python 3"
    },
    "language_info": {
      "name": "python"
    },
    "accelerator": "GPU"
  },
  "cells": [
    {
      "cell_type": "markdown",
      "source": [
        "# **Colab setup and installing Libraries**"
      ],
      "metadata": {
        "id": "sCyOkp-05wxF"
      }
    },
    {
      "cell_type": "code",
      "execution_count": 1,
      "metadata": {
        "colab": {
          "base_uri": "https://localhost:8080/"
        },
        "id": "-LceI2Rg0HfG",
        "outputId": "c0528634-4cc5-4a69-86b9-25c85a2062e7"
      },
      "outputs": [
        {
          "output_type": "stream",
          "name": "stdout",
          "text": [
            "\u001b[2K   \u001b[90m━━━━━━━━━━━━━━━━━━━━━━━━━━━━━━━━━━━━━━━━\u001b[0m \u001b[32m265.9/265.9 MB\u001b[0m \u001b[31m5.3 MB/s\u001b[0m eta \u001b[36m0:00:00\u001b[0m\n",
            "\u001b[2K   \u001b[90m━━━━━━━━━━━━━━━━━━━━━━━━━━━━━━━━━━━━━━━━\u001b[0m \u001b[32m12.2/12.2 MB\u001b[0m \u001b[31m44.2 MB/s\u001b[0m eta \u001b[36m0:00:00\u001b[0m\n",
            "\u001b[2K   \u001b[90m━━━━━━━━━━━━━━━━━━━━━━━━━━━━━━━━━━━━━━━━\u001b[0m \u001b[32m84.7/84.7 kB\u001b[0m \u001b[31m6.2 MB/s\u001b[0m eta \u001b[36m0:00:00\u001b[0m\n",
            "\u001b[?25hRequirement already satisfied: h2o[all] in /usr/local/lib/python3.11/dist-packages (3.46.0.7)\n",
            "\u001b[33mWARNING: h2o 3.46.0.7 does not provide the extra 'all'\u001b[0m\u001b[33m\n",
            "\u001b[0mRequirement already satisfied: requests in /usr/local/lib/python3.11/dist-packages (from h2o[all]) (2.32.3)\n",
            "Requirement already satisfied: tabulate in /usr/local/lib/python3.11/dist-packages (from h2o[all]) (0.9.0)\n",
            "Requirement already satisfied: charset-normalizer<4,>=2 in /usr/local/lib/python3.11/dist-packages (from requests->h2o[all]) (3.4.2)\n",
            "Requirement already satisfied: idna<4,>=2.5 in /usr/local/lib/python3.11/dist-packages (from requests->h2o[all]) (3.10)\n",
            "Requirement already satisfied: urllib3<3,>=1.21.1 in /usr/local/lib/python3.11/dist-packages (from requests->h2o[all]) (2.5.0)\n",
            "Requirement already satisfied: certifi>=2017.4.17 in /usr/local/lib/python3.11/dist-packages (from requests->h2o[all]) (2025.7.14)\n"
          ]
        }
      ],
      "source": [
        "# # Install required packages\n",
        "# !pip install -q pandas numpy scikit-learn matplotlib seaborn h2o h2o_wave gradio shap\n",
        "\n",
        "# # Upgrade h2o to full all functionalities\n",
        "# !pip install -U \"h2o[all]\"\n"
      ]
    },
    {
      "cell_type": "markdown",
      "source": [
        "# **Importing the Libraries**"
      ],
      "metadata": {
        "id": "afx7khws59Ga"
      }
    },
    {
      "cell_type": "code",
      "source": [
        "# Imports\n",
        "import h2o\n",
        "from h2o.automl import H2OAutoML\n",
        "import pandas as pd\n",
        "import numpy as np\n",
        "import matplotlib.pyplot as plt\n",
        "import seaborn as sns\n",
        "import shap\n",
        "import gradio as gr\n",
        "import os\n",
        "import io\n",
        "import re"
      ],
      "metadata": {
        "id": "JSrEezzA0fTd"
      },
      "execution_count": 39,
      "outputs": []
    },
    {
      "cell_type": "markdown",
      "source": [
        "# **Intializing the H2O Cluster**"
      ],
      "metadata": {
        "id": "Z9UQu8KX6CiE"
      }
    },
    {
      "cell_type": "code",
      "source": [
        "# Initialize H2O cluster\n",
        "h2o.init()\n",
        "print(\"H2O cluster initialized!\")"
      ],
      "metadata": {
        "colab": {
          "base_uri": "https://localhost:8080/",
          "height": 602
        },
        "id": "KAgyokwL0hP9",
        "outputId": "0e60448e-d7f4-460b-b285-859ea936293f"
      },
      "execution_count": 3,
      "outputs": [
        {
          "output_type": "stream",
          "name": "stdout",
          "text": [
            "Checking whether there is an H2O instance running at http://localhost:54321..... not found.\n",
            "Attempting to start a local H2O server...\n",
            "  Java Version: openjdk version \"11.0.28\" 2025-07-15; OpenJDK Runtime Environment (build 11.0.28+6-post-Ubuntu-1ubuntu122.04.1); OpenJDK 64-Bit Server VM (build 11.0.28+6-post-Ubuntu-1ubuntu122.04.1, mixed mode, sharing)\n",
            "  Starting server from /usr/local/lib/python3.11/dist-packages/h2o/backend/bin/h2o.jar\n",
            "  Ice root: /tmp/tmpw881x801\n",
            "  JVM stdout: /tmp/tmpw881x801/h2o_unknownUser_started_from_python.out\n",
            "  JVM stderr: /tmp/tmpw881x801/h2o_unknownUser_started_from_python.err\n",
            "  Server is running at http://127.0.0.1:54321\n",
            "Connecting to H2O server at http://127.0.0.1:54321 ... successful.\n",
            "Warning: Your H2O cluster version is (4 months and 10 days) old.  There may be a newer version available.\n",
            "Please download and install the latest version from: https://h2o-release.s3.amazonaws.com/h2o/latest_stable.html\n"
          ]
        },
        {
          "output_type": "display_data",
          "data": {
            "text/plain": [
              "--------------------------  -----------------------------------------------------------------------------------------\n",
              "H2O_cluster_uptime:         03 secs\n",
              "H2O_cluster_timezone:       Etc/UTC\n",
              "H2O_data_parsing_timezone:  UTC\n",
              "H2O_cluster_version:        3.46.0.7\n",
              "H2O_cluster_version_age:    4 months and 10 days\n",
              "H2O_cluster_name:           H2O_from_python_unknownUser_pgb6m7\n",
              "H2O_cluster_total_nodes:    1\n",
              "H2O_cluster_free_memory:    3.170 Gb\n",
              "H2O_cluster_total_cores:    2\n",
              "H2O_cluster_allowed_cores:  2\n",
              "H2O_cluster_status:         locked, healthy\n",
              "H2O_connection_url:         http://127.0.0.1:54321\n",
              "H2O_connection_proxy:       {\"http\": null, \"https\": null, \"colab_language_server\": \"/usr/colab/bin/language_service\"}\n",
              "H2O_internal_security:      False\n",
              "Python_version:             3.11.13 final\n",
              "--------------------------  -----------------------------------------------------------------------------------------"
            ],
            "text/html": [
              "\n",
              "<style>\n",
              "\n",
              "#h2o-table-1.h2o-container {\n",
              "  overflow-x: auto;\n",
              "}\n",
              "#h2o-table-1 .h2o-table {\n",
              "  /* width: 100%; */\n",
              "  margin-top: 1em;\n",
              "  margin-bottom: 1em;\n",
              "}\n",
              "#h2o-table-1 .h2o-table caption {\n",
              "  white-space: nowrap;\n",
              "  caption-side: top;\n",
              "  text-align: left;\n",
              "  /* margin-left: 1em; */\n",
              "  margin: 0;\n",
              "  font-size: larger;\n",
              "}\n",
              "#h2o-table-1 .h2o-table thead {\n",
              "  white-space: nowrap; \n",
              "  position: sticky;\n",
              "  top: 0;\n",
              "  box-shadow: 0 -1px inset;\n",
              "}\n",
              "#h2o-table-1 .h2o-table tbody {\n",
              "  overflow: auto;\n",
              "}\n",
              "#h2o-table-1 .h2o-table th,\n",
              "#h2o-table-1 .h2o-table td {\n",
              "  text-align: right;\n",
              "  /* border: 1px solid; */\n",
              "}\n",
              "#h2o-table-1 .h2o-table tr:nth-child(even) {\n",
              "  /* background: #F5F5F5 */\n",
              "}\n",
              "\n",
              "</style>      \n",
              "<div id=\"h2o-table-1\" class=\"h2o-container\">\n",
              "  <table class=\"h2o-table\">\n",
              "    <caption></caption>\n",
              "    <thead></thead>\n",
              "    <tbody><tr><td>H2O_cluster_uptime:</td>\n",
              "<td>03 secs</td></tr>\n",
              "<tr><td>H2O_cluster_timezone:</td>\n",
              "<td>Etc/UTC</td></tr>\n",
              "<tr><td>H2O_data_parsing_timezone:</td>\n",
              "<td>UTC</td></tr>\n",
              "<tr><td>H2O_cluster_version:</td>\n",
              "<td>3.46.0.7</td></tr>\n",
              "<tr><td>H2O_cluster_version_age:</td>\n",
              "<td>4 months and 10 days</td></tr>\n",
              "<tr><td>H2O_cluster_name:</td>\n",
              "<td>H2O_from_python_unknownUser_pgb6m7</td></tr>\n",
              "<tr><td>H2O_cluster_total_nodes:</td>\n",
              "<td>1</td></tr>\n",
              "<tr><td>H2O_cluster_free_memory:</td>\n",
              "<td>3.170 Gb</td></tr>\n",
              "<tr><td>H2O_cluster_total_cores:</td>\n",
              "<td>2</td></tr>\n",
              "<tr><td>H2O_cluster_allowed_cores:</td>\n",
              "<td>2</td></tr>\n",
              "<tr><td>H2O_cluster_status:</td>\n",
              "<td>locked, healthy</td></tr>\n",
              "<tr><td>H2O_connection_url:</td>\n",
              "<td>http://127.0.0.1:54321</td></tr>\n",
              "<tr><td>H2O_connection_proxy:</td>\n",
              "<td>{\"http\": null, \"https\": null, \"colab_language_server\": \"/usr/colab/bin/language_service\"}</td></tr>\n",
              "<tr><td>H2O_internal_security:</td>\n",
              "<td>False</td></tr>\n",
              "<tr><td>Python_version:</td>\n",
              "<td>3.11.13 final</td></tr></tbody>\n",
              "  </table>\n",
              "</div>\n"
            ]
          },
          "metadata": {}
        },
        {
          "output_type": "stream",
          "name": "stdout",
          "text": [
            "H2O cluster initialized!\n"
          ]
        }
      ]
    },
    {
      "cell_type": "code",
      "source": [
        "# Load the dataset\n",
        "df = pd.read_csv('Cars_2025.csv', encoding='latin1')\n",
        "print(df.shape)"
      ],
      "metadata": {
        "colab": {
          "base_uri": "https://localhost:8080/"
        },
        "id": "vn4oVNpP05y3",
        "outputId": "120e7375-c510-4e81-a8db-fd46010d71fe"
      },
      "execution_count": 27,
      "outputs": [
        {
          "output_type": "stream",
          "name": "stdout",
          "text": [
            "(1218, 11)\n"
          ]
        }
      ]
    },
    {
      "cell_type": "code",
      "source": [
        "# Basic info and missing values\n",
        "print(\"Data Types:\\n\", df.dtypes)"
      ],
      "metadata": {
        "colab": {
          "base_uri": "https://localhost:8080/"
        },
        "id": "C-RXRYbo2SP0",
        "outputId": "8b7d5740-e1e8-44f7-f6e9-658a39b748b2"
      },
      "execution_count": 28,
      "outputs": [
        {
          "output_type": "stream",
          "name": "stdout",
          "text": [
            "Data Types:\n",
            " Company Names                object\n",
            "Cars Names                   object\n",
            "Engines                      object\n",
            "CC/Battery Capacity          object\n",
            "HorsePower                   object\n",
            "Total Speed                  object\n",
            "Performance(0 - 100 )KM/H    object\n",
            "Cars Prices                  object\n",
            "Fuel Types                   object\n",
            "Seats                        object\n",
            "Torque                       object\n",
            "dtype: object\n"
          ]
        }
      ]
    },
    {
      "cell_type": "code",
      "source": [
        "df.head()"
      ],
      "metadata": {
        "colab": {
          "base_uri": "https://localhost:8080/",
          "height": 310
        },
        "id": "tXHQ3Dq02UKZ",
        "outputId": "c1ba918c-8bb5-4a3a-aeaa-5491f64d6832"
      },
      "execution_count": 29,
      "outputs": [
        {
          "output_type": "execute_result",
          "data": {
            "text/plain": [
              "  Company Names     Cars Names      Engines CC/Battery Capacity HorsePower  \\\n",
              "0       FERRARI  SF90 STRADALE           V8             3990 cc     963 hp   \n",
              "1   ROLLS ROYCE        PHANTOM          V12             6749 cc     563 hp   \n",
              "2          Ford            KA+  1.2L Petrol            1,200 cc   70-85 hp   \n",
              "3      MERCEDES        GT 63 S           V8            3,982 cc     630 hp   \n",
              "4          AUDI     AUDI R8 Gt          V10            5,204 cc     602 hp   \n",
              "\n",
              "  Total Speed Performance(0 - 100 )KM/H      Cars Prices       Fuel Types  \\\n",
              "0    340 km/h                   2.5 sec      $1,100,000   plug in hyrbrid   \n",
              "1    250 km/h                   5.3 sec        $460,000            Petrol   \n",
              "2    165 km/h                  10.5 sec  $12,000-$15,000           Petrol   \n",
              "3    250 km/h                   3.2 sec        $161,000            Petrol   \n",
              "4    320 km/h                   3.6 sec        $253,290            Petrol   \n",
              "\n",
              "  Seats        Torque  \n",
              "0     2        800 Nm  \n",
              "1     5        900 Nm  \n",
              "2     5  100 - 140 Nm  \n",
              "3     4        900 Nm  \n",
              "4     2        560 Nm  "
            ],
            "text/html": [
              "\n",
              "  <div id=\"df-f1c53f7c-09b8-4e0f-873c-76071af7ec21\" class=\"colab-df-container\">\n",
              "    <div>\n",
              "<style scoped>\n",
              "    .dataframe tbody tr th:only-of-type {\n",
              "        vertical-align: middle;\n",
              "    }\n",
              "\n",
              "    .dataframe tbody tr th {\n",
              "        vertical-align: top;\n",
              "    }\n",
              "\n",
              "    .dataframe thead th {\n",
              "        text-align: right;\n",
              "    }\n",
              "</style>\n",
              "<table border=\"1\" class=\"dataframe\">\n",
              "  <thead>\n",
              "    <tr style=\"text-align: right;\">\n",
              "      <th></th>\n",
              "      <th>Company Names</th>\n",
              "      <th>Cars Names</th>\n",
              "      <th>Engines</th>\n",
              "      <th>CC/Battery Capacity</th>\n",
              "      <th>HorsePower</th>\n",
              "      <th>Total Speed</th>\n",
              "      <th>Performance(0 - 100 )KM/H</th>\n",
              "      <th>Cars Prices</th>\n",
              "      <th>Fuel Types</th>\n",
              "      <th>Seats</th>\n",
              "      <th>Torque</th>\n",
              "    </tr>\n",
              "  </thead>\n",
              "  <tbody>\n",
              "    <tr>\n",
              "      <th>0</th>\n",
              "      <td>FERRARI</td>\n",
              "      <td>SF90 STRADALE</td>\n",
              "      <td>V8</td>\n",
              "      <td>3990 cc</td>\n",
              "      <td>963 hp</td>\n",
              "      <td>340 km/h</td>\n",
              "      <td>2.5 sec</td>\n",
              "      <td>$1,100,000</td>\n",
              "      <td>plug in hyrbrid</td>\n",
              "      <td>2</td>\n",
              "      <td>800 Nm</td>\n",
              "    </tr>\n",
              "    <tr>\n",
              "      <th>1</th>\n",
              "      <td>ROLLS ROYCE</td>\n",
              "      <td>PHANTOM</td>\n",
              "      <td>V12</td>\n",
              "      <td>6749 cc</td>\n",
              "      <td>563 hp</td>\n",
              "      <td>250 km/h</td>\n",
              "      <td>5.3 sec</td>\n",
              "      <td>$460,000</td>\n",
              "      <td>Petrol</td>\n",
              "      <td>5</td>\n",
              "      <td>900 Nm</td>\n",
              "    </tr>\n",
              "    <tr>\n",
              "      <th>2</th>\n",
              "      <td>Ford</td>\n",
              "      <td>KA+</td>\n",
              "      <td>1.2L Petrol</td>\n",
              "      <td>1,200 cc</td>\n",
              "      <td>70-85 hp</td>\n",
              "      <td>165 km/h</td>\n",
              "      <td>10.5 sec</td>\n",
              "      <td>$12,000-$15,000</td>\n",
              "      <td>Petrol</td>\n",
              "      <td>5</td>\n",
              "      <td>100 - 140 Nm</td>\n",
              "    </tr>\n",
              "    <tr>\n",
              "      <th>3</th>\n",
              "      <td>MERCEDES</td>\n",
              "      <td>GT 63 S</td>\n",
              "      <td>V8</td>\n",
              "      <td>3,982 cc</td>\n",
              "      <td>630 hp</td>\n",
              "      <td>250 km/h</td>\n",
              "      <td>3.2 sec</td>\n",
              "      <td>$161,000</td>\n",
              "      <td>Petrol</td>\n",
              "      <td>4</td>\n",
              "      <td>900 Nm</td>\n",
              "    </tr>\n",
              "    <tr>\n",
              "      <th>4</th>\n",
              "      <td>AUDI</td>\n",
              "      <td>AUDI R8 Gt</td>\n",
              "      <td>V10</td>\n",
              "      <td>5,204 cc</td>\n",
              "      <td>602 hp</td>\n",
              "      <td>320 km/h</td>\n",
              "      <td>3.6 sec</td>\n",
              "      <td>$253,290</td>\n",
              "      <td>Petrol</td>\n",
              "      <td>2</td>\n",
              "      <td>560 Nm</td>\n",
              "    </tr>\n",
              "  </tbody>\n",
              "</table>\n",
              "</div>\n",
              "    <div class=\"colab-df-buttons\">\n",
              "\n",
              "  <div class=\"colab-df-container\">\n",
              "    <button class=\"colab-df-convert\" onclick=\"convertToInteractive('df-f1c53f7c-09b8-4e0f-873c-76071af7ec21')\"\n",
              "            title=\"Convert this dataframe to an interactive table.\"\n",
              "            style=\"display:none;\">\n",
              "\n",
              "  <svg xmlns=\"http://www.w3.org/2000/svg\" height=\"24px\" viewBox=\"0 -960 960 960\">\n",
              "    <path d=\"M120-120v-720h720v720H120Zm60-500h600v-160H180v160Zm220 220h160v-160H400v160Zm0 220h160v-160H400v160ZM180-400h160v-160H180v160Zm440 0h160v-160H620v160ZM180-180h160v-160H180v160Zm440 0h160v-160H620v160Z\"/>\n",
              "  </svg>\n",
              "    </button>\n",
              "\n",
              "  <style>\n",
              "    .colab-df-container {\n",
              "      display:flex;\n",
              "      gap: 12px;\n",
              "    }\n",
              "\n",
              "    .colab-df-convert {\n",
              "      background-color: #E8F0FE;\n",
              "      border: none;\n",
              "      border-radius: 50%;\n",
              "      cursor: pointer;\n",
              "      display: none;\n",
              "      fill: #1967D2;\n",
              "      height: 32px;\n",
              "      padding: 0 0 0 0;\n",
              "      width: 32px;\n",
              "    }\n",
              "\n",
              "    .colab-df-convert:hover {\n",
              "      background-color: #E2EBFA;\n",
              "      box-shadow: 0px 1px 2px rgba(60, 64, 67, 0.3), 0px 1px 3px 1px rgba(60, 64, 67, 0.15);\n",
              "      fill: #174EA6;\n",
              "    }\n",
              "\n",
              "    .colab-df-buttons div {\n",
              "      margin-bottom: 4px;\n",
              "    }\n",
              "\n",
              "    [theme=dark] .colab-df-convert {\n",
              "      background-color: #3B4455;\n",
              "      fill: #D2E3FC;\n",
              "    }\n",
              "\n",
              "    [theme=dark] .colab-df-convert:hover {\n",
              "      background-color: #434B5C;\n",
              "      box-shadow: 0px 1px 3px 1px rgba(0, 0, 0, 0.15);\n",
              "      filter: drop-shadow(0px 1px 2px rgba(0, 0, 0, 0.3));\n",
              "      fill: #FFFFFF;\n",
              "    }\n",
              "  </style>\n",
              "\n",
              "    <script>\n",
              "      const buttonEl =\n",
              "        document.querySelector('#df-f1c53f7c-09b8-4e0f-873c-76071af7ec21 button.colab-df-convert');\n",
              "      buttonEl.style.display =\n",
              "        google.colab.kernel.accessAllowed ? 'block' : 'none';\n",
              "\n",
              "      async function convertToInteractive(key) {\n",
              "        const element = document.querySelector('#df-f1c53f7c-09b8-4e0f-873c-76071af7ec21');\n",
              "        const dataTable =\n",
              "          await google.colab.kernel.invokeFunction('convertToInteractive',\n",
              "                                                    [key], {});\n",
              "        if (!dataTable) return;\n",
              "\n",
              "        const docLinkHtml = 'Like what you see? Visit the ' +\n",
              "          '<a target=\"_blank\" href=https://colab.research.google.com/notebooks/data_table.ipynb>data table notebook</a>'\n",
              "          + ' to learn more about interactive tables.';\n",
              "        element.innerHTML = '';\n",
              "        dataTable['output_type'] = 'display_data';\n",
              "        await google.colab.output.renderOutput(dataTable, element);\n",
              "        const docLink = document.createElement('div');\n",
              "        docLink.innerHTML = docLinkHtml;\n",
              "        element.appendChild(docLink);\n",
              "      }\n",
              "    </script>\n",
              "  </div>\n",
              "\n",
              "\n",
              "    <div id=\"df-561bffd9-3cf3-4ac3-84c2-2cb728e0420d\">\n",
              "      <button class=\"colab-df-quickchart\" onclick=\"quickchart('df-561bffd9-3cf3-4ac3-84c2-2cb728e0420d')\"\n",
              "                title=\"Suggest charts\"\n",
              "                style=\"display:none;\">\n",
              "\n",
              "<svg xmlns=\"http://www.w3.org/2000/svg\" height=\"24px\"viewBox=\"0 0 24 24\"\n",
              "     width=\"24px\">\n",
              "    <g>\n",
              "        <path d=\"M19 3H5c-1.1 0-2 .9-2 2v14c0 1.1.9 2 2 2h14c1.1 0 2-.9 2-2V5c0-1.1-.9-2-2-2zM9 17H7v-7h2v7zm4 0h-2V7h2v10zm4 0h-2v-4h2v4z\"/>\n",
              "    </g>\n",
              "</svg>\n",
              "      </button>\n",
              "\n",
              "<style>\n",
              "  .colab-df-quickchart {\n",
              "      --bg-color: #E8F0FE;\n",
              "      --fill-color: #1967D2;\n",
              "      --hover-bg-color: #E2EBFA;\n",
              "      --hover-fill-color: #174EA6;\n",
              "      --disabled-fill-color: #AAA;\n",
              "      --disabled-bg-color: #DDD;\n",
              "  }\n",
              "\n",
              "  [theme=dark] .colab-df-quickchart {\n",
              "      --bg-color: #3B4455;\n",
              "      --fill-color: #D2E3FC;\n",
              "      --hover-bg-color: #434B5C;\n",
              "      --hover-fill-color: #FFFFFF;\n",
              "      --disabled-bg-color: #3B4455;\n",
              "      --disabled-fill-color: #666;\n",
              "  }\n",
              "\n",
              "  .colab-df-quickchart {\n",
              "    background-color: var(--bg-color);\n",
              "    border: none;\n",
              "    border-radius: 50%;\n",
              "    cursor: pointer;\n",
              "    display: none;\n",
              "    fill: var(--fill-color);\n",
              "    height: 32px;\n",
              "    padding: 0;\n",
              "    width: 32px;\n",
              "  }\n",
              "\n",
              "  .colab-df-quickchart:hover {\n",
              "    background-color: var(--hover-bg-color);\n",
              "    box-shadow: 0 1px 2px rgba(60, 64, 67, 0.3), 0 1px 3px 1px rgba(60, 64, 67, 0.15);\n",
              "    fill: var(--button-hover-fill-color);\n",
              "  }\n",
              "\n",
              "  .colab-df-quickchart-complete:disabled,\n",
              "  .colab-df-quickchart-complete:disabled:hover {\n",
              "    background-color: var(--disabled-bg-color);\n",
              "    fill: var(--disabled-fill-color);\n",
              "    box-shadow: none;\n",
              "  }\n",
              "\n",
              "  .colab-df-spinner {\n",
              "    border: 2px solid var(--fill-color);\n",
              "    border-color: transparent;\n",
              "    border-bottom-color: var(--fill-color);\n",
              "    animation:\n",
              "      spin 1s steps(1) infinite;\n",
              "  }\n",
              "\n",
              "  @keyframes spin {\n",
              "    0% {\n",
              "      border-color: transparent;\n",
              "      border-bottom-color: var(--fill-color);\n",
              "      border-left-color: var(--fill-color);\n",
              "    }\n",
              "    20% {\n",
              "      border-color: transparent;\n",
              "      border-left-color: var(--fill-color);\n",
              "      border-top-color: var(--fill-color);\n",
              "    }\n",
              "    30% {\n",
              "      border-color: transparent;\n",
              "      border-left-color: var(--fill-color);\n",
              "      border-top-color: var(--fill-color);\n",
              "      border-right-color: var(--fill-color);\n",
              "    }\n",
              "    40% {\n",
              "      border-color: transparent;\n",
              "      border-right-color: var(--fill-color);\n",
              "      border-top-color: var(--fill-color);\n",
              "    }\n",
              "    60% {\n",
              "      border-color: transparent;\n",
              "      border-right-color: var(--fill-color);\n",
              "    }\n",
              "    80% {\n",
              "      border-color: transparent;\n",
              "      border-right-color: var(--fill-color);\n",
              "      border-bottom-color: var(--fill-color);\n",
              "    }\n",
              "    90% {\n",
              "      border-color: transparent;\n",
              "      border-bottom-color: var(--fill-color);\n",
              "    }\n",
              "  }\n",
              "</style>\n",
              "\n",
              "      <script>\n",
              "        async function quickchart(key) {\n",
              "          const quickchartButtonEl =\n",
              "            document.querySelector('#' + key + ' button');\n",
              "          quickchartButtonEl.disabled = true;  // To prevent multiple clicks.\n",
              "          quickchartButtonEl.classList.add('colab-df-spinner');\n",
              "          try {\n",
              "            const charts = await google.colab.kernel.invokeFunction(\n",
              "                'suggestCharts', [key], {});\n",
              "          } catch (error) {\n",
              "            console.error('Error during call to suggestCharts:', error);\n",
              "          }\n",
              "          quickchartButtonEl.classList.remove('colab-df-spinner');\n",
              "          quickchartButtonEl.classList.add('colab-df-quickchart-complete');\n",
              "        }\n",
              "        (() => {\n",
              "          let quickchartButtonEl =\n",
              "            document.querySelector('#df-561bffd9-3cf3-4ac3-84c2-2cb728e0420d button');\n",
              "          quickchartButtonEl.style.display =\n",
              "            google.colab.kernel.accessAllowed ? 'block' : 'none';\n",
              "        })();\n",
              "      </script>\n",
              "    </div>\n",
              "\n",
              "    </div>\n",
              "  </div>\n"
            ],
            "application/vnd.google.colaboratory.intrinsic+json": {
              "type": "dataframe",
              "variable_name": "df",
              "summary": "{\n  \"name\": \"df\",\n  \"rows\": 1218,\n  \"fields\": [\n    {\n      \"column\": \"Company Names\",\n      \"properties\": {\n        \"dtype\": \"category\",\n        \"num_unique_values\": 37,\n        \"samples\": [\n          \"MAHINDRA\",\n          \"KIA\",\n          \"AUDI\"\n        ],\n        \"semantic_type\": \"\",\n        \"description\": \"\"\n      }\n    },\n    {\n      \"column\": \"Cars Names\",\n      \"properties\": {\n        \"dtype\": \"string\",\n        \"num_unique_values\": 1201,\n        \"samples\": [\n          \"HILUX REVO ROCCO\",\n          \"F-150 Raptor\",\n          \"LAND CRUISER 300\"\n        ],\n        \"semantic_type\": \"\",\n        \"description\": \"\"\n      }\n    },\n    {\n      \"column\": \"Engines\",\n      \"properties\": {\n        \"dtype\": \"category\",\n        \"num_unique_values\": 356,\n        \"samples\": [\n          \"4.3L V6 engine\",\n          \"3.3L V6\",\n          \"V6 Hybrid\"\n        ],\n        \"semantic_type\": \"\",\n        \"description\": \"\"\n      }\n    },\n    {\n      \"column\": \"CC/Battery Capacity\",\n      \"properties\": {\n        \"dtype\": \"category\",\n        \"num_unique_values\": 311,\n        \"samples\": [\n          \"1,100 - 1,500 cc\",\n          \"6496 cc\",\n          \"1,197 cc\"\n        ],\n        \"semantic_type\": \"\",\n        \"description\": \"\"\n      }\n    },\n    {\n      \"column\": \"HorsePower\",\n      \"properties\": {\n        \"dtype\": \"category\",\n        \"num_unique_values\": 456,\n        \"samples\": [\n          \"175 hp\",\n          \"700 hp\",\n          \"138 hp\"\n        ],\n        \"semantic_type\": \"\",\n        \"description\": \"\"\n      }\n    },\n    {\n      \"column\": \"Total Speed\",\n      \"properties\": {\n        \"dtype\": \"category\",\n        \"num_unique_values\": 114,\n        \"samples\": [\n          \"308 km/h\",\n          \"341 km/h\",\n          \"209 km/h\"\n        ],\n        \"semantic_type\": \"\",\n        \"description\": \"\"\n      }\n    },\n    {\n      \"column\": \"Performance(0 - 100 )KM/H\",\n      \"properties\": {\n        \"dtype\": \"category\",\n        \"num_unique_values\": 180,\n        \"samples\": [\n          \"6.8 sec\",\n          \"3.8 sec\",\n          \"9 sec\"\n        ],\n        \"semantic_type\": \"\",\n        \"description\": \"\"\n      }\n    },\n    {\n      \"column\": \"Cars Prices\",\n      \"properties\": {\n        \"dtype\": \"category\",\n        \"num_unique_values\": 535,\n        \"samples\": [\n          \"$165,000 \",\n          \"$41,000 \",\n          \"$20,400 \"\n        ],\n        \"semantic_type\": \"\",\n        \"description\": \"\"\n      }\n    },\n    {\n      \"column\": \"Fuel Types\",\n      \"properties\": {\n        \"dtype\": \"category\",\n        \"num_unique_values\": 23,\n        \"samples\": [\n          \"Hybrid (Petrol)\",\n          \"Hydrogen\",\n          \"plug in hyrbrid\"\n        ],\n        \"semantic_type\": \"\",\n        \"description\": \"\"\n      }\n    },\n    {\n      \"column\": \"Seats\",\n      \"properties\": {\n        \"dtype\": \"category\",\n        \"num_unique_values\": 19,\n        \"samples\": [\n          \"2\",\n          \"8\",\n          \"6\"\n        ],\n        \"semantic_type\": \"\",\n        \"description\": \"\"\n      }\n    },\n    {\n      \"column\": \"Torque\",\n      \"properties\": {\n        \"dtype\": \"category\",\n        \"num_unique_values\": 263,\n        \"samples\": [\n          \"275 Nm\",\n          \"103 Nm\",\n          \"239 Nm\"\n        ],\n        \"semantic_type\": \"\",\n        \"description\": \"\"\n      }\n    }\n  ]\n}"
            }
          },
          "metadata": {},
          "execution_count": 29
        }
      ]
    },
    {
      "cell_type": "code",
      "source": [
        "df.info()"
      ],
      "metadata": {
        "colab": {
          "base_uri": "https://localhost:8080/"
        },
        "id": "Ir7uueMo24QC",
        "outputId": "5be304f2-77e4-4302-887b-770901a87dda"
      },
      "execution_count": 33,
      "outputs": [
        {
          "output_type": "stream",
          "name": "stdout",
          "text": [
            "<class 'pandas.core.frame.DataFrame'>\n",
            "RangeIndex: 1218 entries, 0 to 1217\n",
            "Data columns (total 11 columns):\n",
            " #   Column                     Non-Null Count  Dtype \n",
            "---  ------                     --------------  ----- \n",
            " 0   Company Names              1218 non-null   object\n",
            " 1   Cars Names                 1218 non-null   object\n",
            " 2   Engines                    1218 non-null   object\n",
            " 3   CC/Battery Capacity        1215 non-null   object\n",
            " 4   HorsePower                 1218 non-null   object\n",
            " 5   Total Speed                1218 non-null   object\n",
            " 6   Performance(0 - 100 )KM/H  1212 non-null   object\n",
            " 7   Cars Prices                1218 non-null   object\n",
            " 8   Fuel Types                 1218 non-null   object\n",
            " 9   Seats                      1218 non-null   object\n",
            " 10  Torque                     1217 non-null   object\n",
            "dtypes: object(11)\n",
            "memory usage: 104.8+ KB\n"
          ]
        }
      ]
    },
    {
      "cell_type": "code",
      "source": [
        "df.isnull().sum()"
      ],
      "metadata": {
        "colab": {
          "base_uri": "https://localhost:8080/",
          "height": 429
        },
        "id": "ewVuhEIz27D7",
        "outputId": "ca3087a5-13a8-40f3-f9ad-77d2c7da1801"
      },
      "execution_count": 34,
      "outputs": [
        {
          "output_type": "execute_result",
          "data": {
            "text/plain": [
              "Company Names                0\n",
              "Cars Names                   0\n",
              "Engines                      0\n",
              "CC/Battery Capacity          3\n",
              "HorsePower                   0\n",
              "Total Speed                  0\n",
              "Performance(0 - 100 )KM/H    6\n",
              "Cars Prices                  0\n",
              "Fuel Types                   0\n",
              "Seats                        0\n",
              "Torque                       1\n",
              "dtype: int64"
            ],
            "text/html": [
              "<div>\n",
              "<style scoped>\n",
              "    .dataframe tbody tr th:only-of-type {\n",
              "        vertical-align: middle;\n",
              "    }\n",
              "\n",
              "    .dataframe tbody tr th {\n",
              "        vertical-align: top;\n",
              "    }\n",
              "\n",
              "    .dataframe thead th {\n",
              "        text-align: right;\n",
              "    }\n",
              "</style>\n",
              "<table border=\"1\" class=\"dataframe\">\n",
              "  <thead>\n",
              "    <tr style=\"text-align: right;\">\n",
              "      <th></th>\n",
              "      <th>0</th>\n",
              "    </tr>\n",
              "  </thead>\n",
              "  <tbody>\n",
              "    <tr>\n",
              "      <th>Company Names</th>\n",
              "      <td>0</td>\n",
              "    </tr>\n",
              "    <tr>\n",
              "      <th>Cars Names</th>\n",
              "      <td>0</td>\n",
              "    </tr>\n",
              "    <tr>\n",
              "      <th>Engines</th>\n",
              "      <td>0</td>\n",
              "    </tr>\n",
              "    <tr>\n",
              "      <th>CC/Battery Capacity</th>\n",
              "      <td>3</td>\n",
              "    </tr>\n",
              "    <tr>\n",
              "      <th>HorsePower</th>\n",
              "      <td>0</td>\n",
              "    </tr>\n",
              "    <tr>\n",
              "      <th>Total Speed</th>\n",
              "      <td>0</td>\n",
              "    </tr>\n",
              "    <tr>\n",
              "      <th>Performance(0 - 100 )KM/H</th>\n",
              "      <td>6</td>\n",
              "    </tr>\n",
              "    <tr>\n",
              "      <th>Cars Prices</th>\n",
              "      <td>0</td>\n",
              "    </tr>\n",
              "    <tr>\n",
              "      <th>Fuel Types</th>\n",
              "      <td>0</td>\n",
              "    </tr>\n",
              "    <tr>\n",
              "      <th>Seats</th>\n",
              "      <td>0</td>\n",
              "    </tr>\n",
              "    <tr>\n",
              "      <th>Torque</th>\n",
              "      <td>1</td>\n",
              "    </tr>\n",
              "  </tbody>\n",
              "</table>\n",
              "</div><br><label><b>dtype:</b> int64</label>"
            ]
          },
          "metadata": {},
          "execution_count": 34
        }
      ]
    },
    {
      "cell_type": "code",
      "source": [
        "df.dropna(inplace=True)"
      ],
      "metadata": {
        "id": "AekTGqVk27Az"
      },
      "execution_count": 35,
      "outputs": []
    },
    {
      "cell_type": "code",
      "source": [
        "df_duplicates = df.duplicated().sum()\n",
        "print(f\"Duplicates before dropping: {df_duplicates}\")\n",
        "\n",
        "df.drop_duplicates(inplace=True)\n",
        "print(f\"Duplicates after dropping: {df.duplicated().sum()}\")"
      ],
      "metadata": {
        "colab": {
          "base_uri": "https://localhost:8080/"
        },
        "id": "UxM87jvU269r",
        "outputId": "59bb37d7-f0d1-4ca1-c080-98baa96b430c"
      },
      "execution_count": 36,
      "outputs": [
        {
          "output_type": "stream",
          "name": "stdout",
          "text": [
            "Duplicates before dropping: 4\n",
            "Duplicates after dropping: 0\n"
          ]
        }
      ]
    },
    {
      "cell_type": "code",
      "source": [
        "for col in df.columns:\n",
        "    print(f\"\\n===== Value Counts for '{col}' =====\")\n",
        "    print(df[col].value_counts(dropna=False).head(10))\n",
        "    print(f\"Total unique values: {df[col].nunique()}\")"
      ],
      "metadata": {
        "colab": {
          "base_uri": "https://localhost:8080/"
        },
        "id": "_crcBrQC266j",
        "outputId": "1c079964-dd23-45f6-db21-aa19aff7df8e"
      },
      "execution_count": 37,
      "outputs": [
        {
          "output_type": "stream",
          "name": "stdout",
          "text": [
            "\n",
            "===== Value Counts for 'Company Names' =====\n",
            "Company Names\n",
            "Nissan        148\n",
            "Volkswagen    107\n",
            "Porsche        96\n",
            "Mazda          86\n",
            "GMC            59\n",
            "Chevrolet      57\n",
            "Mitsubishi     56\n",
            "Peugeot        54\n",
            "Kia            54\n",
            "Ford           54\n",
            "Name: count, dtype: int64\n",
            "Total unique values: 37\n",
            "\n",
            "===== Value Counts for 'Cars Names' =====\n",
            "Cars Names\n",
            "Mistral                      2\n",
            "911 Carrera 4                2\n",
            "Panamera Platinum Edition    2\n",
            "Polo BlueMotion              2\n",
            "MIRAI                        2\n",
            "Malibu Premier               2\n",
            "NX Coupe                     2\n",
            "KA+                          2\n",
            "200SX                        2\n",
            "Macan T                      2\n",
            "Name: count, dtype: int64\n",
            "Total unique values: 1193\n",
            "\n",
            "===== Value Counts for 'Engines' =====\n",
            "Engines\n",
            "I4                      64\n",
            "V12                     51\n",
            "V6                      39\n",
            "Inline-4                38\n",
            "V8                      34\n",
            "Dual Electric Motors    23\n",
            "2.0L Inline-4           20\n",
            "1.6L Inline-4           19\n",
            "Electric Motor          19\n",
            "5.6L V8                 17\n",
            "Name: count, dtype: int64\n",
            "Total unique values: 350\n",
            "\n",
            "===== Value Counts for 'CC/Battery Capacity' =====\n",
            "CC/Battery Capacity\n",
            "2,000    31\n",
            "1984     31\n",
            "2,500    25\n",
            "1591     22\n",
            "3996     20\n",
            "1,998    19\n",
            "3600     18\n",
            "6200     18\n",
            "2894     17\n",
            "5552     17\n",
            "Name: count, dtype: int64\n",
            "Total unique values: 309\n",
            "\n",
            "===== Value Counts for 'HorsePower' =====\n",
            "HorsePower\n",
            "310 hp    22\n",
            "355 hp    22\n",
            "200 hp    21\n",
            "563 hp    20\n",
            "300 hp    20\n",
            "130 hp    18\n",
            "420 hp    17\n",
            "181 hp    16\n",
            "400 HP    16\n",
            "180 hp    15\n",
            "Name: count, dtype: int64\n",
            "Total unique values: 453\n",
            "\n",
            "===== Value Counts for 'Total Speed' =====\n",
            "Total Speed\n",
            "250 km/h    144\n",
            "200 km/h    139\n",
            "180 km/h    128\n",
            "190 km/h     92\n",
            "210 km/h     84\n",
            "220 km/h     48\n",
            "170 km/h     47\n",
            "160 km/h     44\n",
            "240 km/h     39\n",
            "175 km/h     24\n",
            "Name: count, dtype: int64\n",
            "Total unique values: 113\n",
            "\n",
            "===== Value Counts for 'Performance(0 - 100 )KM/H' =====\n",
            "Performance(0 - 100 )KM/H\n",
            "6.5 sec     45\n",
            "7.5 sec     43\n",
            "8.5 sec     40\n",
            "10.5 sec    38\n",
            "8.0 sec     34\n",
            "6.0 sec     31\n",
            "9.5 sec     31\n",
            "7.0 sec     26\n",
            "6.8 sec     20\n",
            "2.9 sec     20\n",
            "Name: count, dtype: int64\n",
            "Total unique values: 180\n",
            "\n",
            "===== Value Counts for 'Cars Prices' =====\n",
            "Cars Prices\n",
            "$35,000     36\n",
            "$30,000     31\n",
            "$50,000     31\n",
            "$55,000     29\n",
            "$25,000     28\n",
            "$45,000     28\n",
            "$40,000     27\n",
            "$60,000     22\n",
            "$28,000     21\n",
            "$70,000     17\n",
            "Name: count, dtype: int64\n",
            "Total unique values: 533\n",
            "\n",
            "===== Value Counts for 'Fuel Types' =====\n",
            "Fuel Types\n",
            "Petrol             869\n",
            "Diesel             102\n",
            "Electric            94\n",
            "Hybrid              78\n",
            "Petrol/Diesel       16\n",
            "Petrol/Hybrid       16\n",
            "Plug-in Hybrid       5\n",
            "Hybrid (Petrol)      4\n",
            "Diesel/Petrol        4\n",
            "Petrol, Diesel       3\n",
            "Name: count, dtype: int64\n",
            "Total unique values: 21\n",
            "\n",
            "===== Value Counts for 'Seats' =====\n",
            "Seats\n",
            "5      689\n",
            "4      160\n",
            "7      146\n",
            "2      131\n",
            "8       29\n",
            "6       20\n",
            "3       14\n",
            "2+2      5\n",
            "1        3\n",
            "26      2\n",
            "Name: count, dtype: int64\n",
            "Total unique values: 17\n",
            "\n",
            "===== Value Counts for 'Torque' =====\n",
            "Torque\n",
            "400 Nm    72\n",
            "250 Nm    55\n",
            "350 Nm    39\n",
            "450 Nm    33\n",
            "500 Nm    33\n",
            "519 Nm    21\n",
            "600 Nm    20\n",
            "560 Nm    19\n",
            "300 Nm    19\n",
            "850 Nm    19\n",
            "Name: count, dtype: int64\n",
            "Total unique values: 262\n"
          ]
        }
      ]
    },
    {
      "cell_type": "markdown",
      "source": [
        "# **Cleaning the Dataset**"
      ],
      "metadata": {
        "id": "7bkZNiP26nMa"
      }
    },
    {
      "cell_type": "code",
      "source": [
        "df['Fuel Types'] = df['Fuel Types'].str.lower().str.strip()\n",
        "df['Fuel Types'] = df['Fuel Types'].replace({\n",
        "    'plug in hyrbrid': 'plug-in hybrid',\n",
        "    'petrol/diesel': 'petrol & diesel',\n",
        "    'diesel/petrol': 'petrol & diesel',\n",
        "    'petrol, diesel': 'petrol & diesel',\n",
        "    'petrol/hybrid': 'hybrid',\n",
        "    'hybrid (petrol)': 'hybrid',\n",
        "    'hybrid/petrol': 'hybrid',\n",
        "    'petrol/ev': 'hybrid',\n",
        "    'hybrid/electric': 'hybrid',\n",
        "    'hybrid (gas + electric)': 'hybrid',\n",
        "    'gas / hybrid': 'hybrid',\n",
        "    'petrol, hybrid': 'hybrid',\n",
        "    'petrol/awd': 'petrol',\n",
        "    'cng/petrol': 'cng'\n",
        "})\n",
        "\n",
        "def parse_price(value):\n",
        "    if isinstance(value, str):\n",
        "        nums = re.findall(r'\\d[\\d,]*', value)\n",
        "        if len(nums) == 1:\n",
        "            return float(nums[0].replace(',', ''))\n",
        "        elif len(nums) == 2:\n",
        "            return (float(nums[0].replace(',', '')) + float(nums[1].replace(',', ''))) / 2\n",
        "    return np.nan\n",
        "\n",
        "df['Price_USD'] = df['Cars Prices'].apply(parse_price)\n",
        "\n",
        "df['HorsePower_clean'] = df['HorsePower'].str.lower().str.extract(r'(\\d+)').astype(float)\n",
        "\n",
        "df['TopSpeed_kmh'] = df['Total Speed'].str.lower().str.extract(r'(\\d+)').astype(float)\n",
        "\n",
        "df['Acceleration_0_100_sec'] = df['Performance(0 - 100 )KM/H'].str.lower().str.extract(r'([\\d\\.]+)').astype(float)\n",
        "\n",
        "df['CC_clean'] = df['CC/Battery Capacity'].str.lower().str.replace(',', '').str.extract(r'(\\d+)').astype(float)\n",
        "\n",
        "df['Torque_Nm'] = df['Torque'].str.extract(r'(\\d+)').astype(float)\n",
        "\n",
        "def parse_seats(val):\n",
        "    try:\n",
        "        if isinstance(val, str):\n",
        "            nums = [int(s) for s in re.findall(r'\\d+', val)]\n",
        "            if len(nums) == 1:\n",
        "                return nums[0]\n",
        "            elif len(nums) >= 2:\n",
        "                return round(sum(nums) / len(nums))\n",
        "        return int(val)\n",
        "    except:\n",
        "        return np.nan\n",
        "\n",
        "df['Seats_clean'] = df['Seats'].apply(parse_seats)\n",
        "\n",
        "df_cleaned = df[[\n",
        "    'Company Names', 'Cars Names', 'Engines', 'Fuel Types',\n",
        "    'CC_clean', 'HorsePower_clean', 'TopSpeed_kmh', 'Acceleration_0_100_sec',\n",
        "    'Price_USD', 'Torque_Nm', 'Seats_clean'\n",
        "]].copy()\n",
        "\n",
        "df_cleaned.rename(columns={\n",
        "    'CC_clean': 'Engine_CC',\n",
        "    'HorsePower_clean': 'HorsePower_hp',\n",
        "    'TopSpeed_kmh': 'TopSpeed_kmh',\n",
        "    'Acceleration_0_100_sec': 'Acceleration_sec',\n",
        "    'Torque_Nm': 'Torque_Nm',\n",
        "    'Seats_clean': 'Seats'\n",
        "}, inplace=True)"
      ],
      "metadata": {
        "id": "_hkOiZsD263K"
      },
      "execution_count": 41,
      "outputs": []
    },
    {
      "cell_type": "code",
      "source": [
        "df_cleaned['Engine_CC'].fillna(df_cleaned['Engine_CC'].mean(), inplace=True)\n"
      ],
      "metadata": {
        "colab": {
          "base_uri": "https://localhost:8080/"
        },
        "id": "hTGnrRua26zx",
        "outputId": "ccfd1670-d286-434a-f2f5-b83e6b8d1a0e"
      },
      "execution_count": 43,
      "outputs": [
        {
          "output_type": "stream",
          "name": "stderr",
          "text": [
            "/tmp/ipython-input-191454644.py:1: FutureWarning: A value is trying to be set on a copy of a DataFrame or Series through chained assignment using an inplace method.\n",
            "The behavior will change in pandas 3.0. This inplace method will never work because the intermediate object on which we are setting values always behaves as a copy.\n",
            "\n",
            "For example, when doing 'df[col].method(value, inplace=True)', try using 'df.method({col: value}, inplace=True)' or df[col] = df[col].method(value) instead, to perform the operation inplace on the original object.\n",
            "\n",
            "\n",
            "  df_cleaned['Engine_CC'].fillna(df_cleaned['Engine_CC'].mean(), inplace=True)\n"
          ]
        }
      ]
    },
    {
      "cell_type": "code",
      "source": [
        "df_cleaned.drop(columns=['Cars Names'], inplace=True)"
      ],
      "metadata": {
        "id": "joJlFiQ326wr"
      },
      "execution_count": 44,
      "outputs": []
    },
    {
      "cell_type": "code",
      "source": [
        "features = ['Company Names','Engines', 'Fuel Types', 'Engine_CC',\n",
        "            'HorsePower_hp', 'TopSpeed_kmh', 'Acceleration_sec', 'Torque_Nm', 'Seats']\n",
        "target = 'Price_USD'"
      ],
      "metadata": {
        "id": "WX4qYStQ26tV"
      },
      "execution_count": 50,
      "outputs": []
    },
    {
      "cell_type": "code",
      "source": [
        "# Convert Pandas DataFrame to H2OFrame\n",
        "h2o_df = h2o.H2OFrame(df_cleaned)"
      ],
      "metadata": {
        "colab": {
          "base_uri": "https://localhost:8080/"
        },
        "id": "uBR2wnzH26pn",
        "outputId": "7afdd8d8-d923-47fd-8e09-d8bd14669ae3"
      },
      "execution_count": 47,
      "outputs": [
        {
          "output_type": "stream",
          "name": "stdout",
          "text": [
            "Parse progress: |████████████████████████████████████████████████████████████████| (done) 100%\n"
          ]
        }
      ]
    },
    {
      "cell_type": "code",
      "source": [
        "# Train-test split 70-30\n",
        "train, test = h2o_df.split_frame(ratios=[0.7], seed=42)\n",
        "\n",
        "print(f\"Train rows: {train.nrows}, Test rows: {test.nrows}\")\n"
      ],
      "metadata": {
        "colab": {
          "base_uri": "https://localhost:8080/"
        },
        "id": "oQo69Ymk26i2",
        "outputId": "94144e4b-1cfd-4277-dcc7-d97d732ab6d0"
      },
      "execution_count": 48,
      "outputs": [
        {
          "output_type": "stream",
          "name": "stdout",
          "text": [
            "Train rows: 849, Test rows: 357\n"
          ]
        }
      ]
    },
    {
      "cell_type": "markdown",
      "source": [
        "# **Train H2O AutoML Regression Model**"
      ],
      "metadata": {
        "id": "N4_h4O2YCtv0"
      }
    },
    {
      "cell_type": "code",
      "source": [
        "# Initialize AutoML for regression task\n",
        "aml = H2OAutoML(\n",
        "    max_runtime_secs=300,\n",
        "    seed=42,\n",
        "    nfolds=5,\n",
        "    max_models=20,\n",
        "    stopping_metric=\"RMSE\",\n",
        "    balance_classes=False,\n",
        "    verbosity='info'\n",
        ")\n",
        "\n",
        "# Train model\n",
        "aml.train(x=features, y=target, training_frame=train, leaderboard_frame=test)\n",
        "\n",
        "best_model = aml.leader\n",
        "print(f\"Best model: {best_model.model_id}\")\n"
      ],
      "metadata": {
        "colab": {
          "base_uri": "https://localhost:8080/"
        },
        "id": "C45HMoBO26S-",
        "outputId": "37c1968c-a3fe-4622-fab4-1174bea15077"
      },
      "execution_count": 51,
      "outputs": [
        {
          "output_type": "stream",
          "name": "stdout",
          "text": [
            "AutoML progress: |\n",
            "14:40:50.147: Project: AutoML_1_20250807_144050\n",
            "14:40:50.149: Setting stopping tolerance adaptively based on the training frame: 0.03431991115272901\n",
            "14:40:50.149: Build control seed: 42\n",
            "14:40:50.150: training frame: Frame key: AutoML_1_20250807_144050_training_py_2_sid_9535    cols: 10    rows: 849  chunks: 1    size: 59085  checksum: 3495241534547698092\n",
            "14:40:50.152: validation frame: NULL\n",
            "14:40:50.156: leaderboard frame: Frame key: py_3_sid_9535    cols: 10    rows: 357  chunks: 1    size: 47876  checksum: -8896209438445104002\n",
            "14:40:50.156: blending frame: NULL\n",
            "14:40:50.157: response column: Price_USD\n",
            "14:40:50.157: fold column: null\n",
            "14:40:50.157: weights column: null\n",
            "14:40:50.193: Loading execution steps: [{XGBoost : [def_2 (1g, 10w), def_1 (2g, 10w), def_3 (3g, 10w), grid_1 (4g, 90w), lr_search (7g, 30w)]}, {GLM : [def_1 (1g, 10w)]}, {DRF : [def_1 (2g, 10w), XRT (3g, 10w)]}, {GBM : [def_5 (1g, 10w), def_2 (2g, 10w), def_3 (2g, 10w), def_4 (2g, 10w), def_1 (3g, 10w), grid_1 (4g, 60w), lr_annealing (7g, 10w)]}, {DeepLearning : [def_1 (3g, 10w), grid_1 (4g, 30w), grid_2 (5g, 30w), grid_3 (5g, 30w)]}, {completion : [resume_best_grids (6g, 60w)]}, {StackedEnsemble : [monotonic (9g, 10w), best_of_family_xglm (10g, 10w), all_xglm (10g, 10w)]}]\n",
            "14:40:50.246: AutoML job created: 2025.08.07 14:40:50.93\n",
            "14:40:50.247: AutoML build started: 2025.08.07 14:40:50.247\n",
            "14:40:50.294: AutoML: starting XGBoost_1_AutoML_1_20250807_144050 model training\n",
            "\n",
            "███\n",
            "14:41:01.115: New leader: XGBoost_1_AutoML_1_20250807_144050, rmse: 297748.40137436177\n",
            "14:41:01.125: AutoML: starting GLM_1_AutoML_1_20250807_144050 model training\n",
            "\n",
            "\n",
            "14:41:02.329: AutoML: starting GBM_1_AutoML_1_20250807_144050 model training\n",
            "\n",
            "█\n",
            "14:41:06.871: AutoML: starting XGBoost_2_AutoML_1_20250807_144050 model training\n",
            "\n",
            "██\n",
            "14:41:12.885: AutoML: starting DRF_1_AutoML_1_20250807_144050 model training\n",
            "\n",
            "█\n",
            "14:41:19.41: AutoML: starting GBM_2_AutoML_1_20250807_144050 model training\n",
            "\n",
            "\n",
            "14:41:20.571: New leader: GBM_2_AutoML_1_20250807_144050, rmse: 248900.27911618326\n",
            "14:41:20.572: AutoML: starting GBM_3_AutoML_1_20250807_144050 model training\n",
            "\n",
            "█\n",
            "14:41:22.330: New leader: GBM_3_AutoML_1_20250807_144050, rmse: 244535.5254369468\n",
            "14:41:22.342: AutoML: starting GBM_4_AutoML_1_20250807_144050 model training\n",
            "\n",
            "█\n",
            "14:41:25.130: AutoML: starting XGBoost_3_AutoML_1_20250807_144050 model training\n",
            "\n",
            "██\n",
            "14:41:28.798: AutoML: starting XRT_1_AutoML_1_20250807_144050 model training\n",
            "\n",
            "██\n",
            "14:41:36.903: AutoML: starting GBM_5_AutoML_1_20250807_144050 model training\n",
            "\n",
            "█\n",
            "14:41:38.561: AutoML: starting DeepLearning_1_AutoML_1_20250807_144050 model training\n",
            "\n",
            "█\n",
            "14:41:43.681: AutoML: starting XGBoost_grid_1_AutoML_1_20250807_144050 hyperparameter search\n",
            "\n",
            "██\n",
            "14:41:56.629: AutoML: starting GBM_grid_1_AutoML_1_20250807_144050 hyperparameter search\n",
            "\n",
            "█████\n",
            "14:42:00.123: New leader: GBM_grid_1_AutoML_1_20250807_144050_model_2, rmse: 242629.4461554842\n",
            "14:42:00.125: AutoML: starting DeepLearning_grid_1_AutoML_1_20250807_144050 hyperparameter search\n",
            "\n",
            "█████████████████████████████\n",
            "14:43:58.262: AutoML: starting DeepLearning_grid_2_AutoML_1_20250807_144050 hyperparameter search\n",
            "\n",
            "████████████| (done) 100%\n",
            "\n",
            "14:45:50.364: Actual modeling steps: [{XGBoost : [def_2 (1g, 10w)]}, {GLM : [def_1 (1g, 10w)]}, {GBM : [def_5 (1g, 10w)]}, {XGBoost : [def_1 (2g, 10w)]}, {DRF : [def_1 (2g, 10w)]}, {GBM : [def_2 (2g, 10w), def_3 (2g, 10w), def_4 (2g, 10w)]}, {XGBoost : [def_3 (3g, 10w)]}, {DRF : [XRT (3g, 10w)]}, {GBM : [def_1 (3g, 10w)]}, {DeepLearning : [def_1 (3g, 10w)]}, {XGBoost : [grid_1 (4g, 90w)]}, {GBM : [grid_1 (4g, 60w)]}, {DeepLearning : [grid_1 (4g, 30w), grid_2 (5g, 30w)]}]\n",
            "14:45:50.364: AutoML build stopped: 2025.08.07 14:45:50.364\n",
            "14:45:50.364: AutoML build done: built 18 models\n",
            "14:45:50.364: AutoML duration:  5 min  0.117 sec\n",
            "\n",
            "Best model: GBM_grid_1_AutoML_1_20250807_144050_model_2\n"
          ]
        }
      ]
    },
    {
      "cell_type": "markdown",
      "source": [
        "# **SHAP Explainability Visualization**"
      ],
      "metadata": {
        "id": "xYsXJriFCoej"
      }
    },
    {
      "cell_type": "code",
      "source": [
        "# Get prediction contributions (SHAP) for 5 test samples\n",
        "try:\n",
        "    num_instances = min(5, test.nrows)\n",
        "    explanation_frame = best_model.predict_contributions(test[0:num_instances, :])\n",
        "    shap_values = explanation_frame.as_data_frame().iloc[:, :-1].values  # drop bias term\n",
        "\n",
        "    # Bar plot for first test instance feature contributions\n",
        "    plt.figure(figsize=(12,6))\n",
        "    plt.bar(features, shap_values[0])\n",
        "    plt.xticks(rotation=45, ha='right')\n",
        "    plt.ylabel('SHAP Value (Feature Impact)')\n",
        "    plt.title('Feature Contributions for First Test Instance (SHAP)')\n",
        "    plt.tight_layout()\n",
        "    plt.show()\n",
        "except Exception as e:\n",
        "    print(\"SHAP explanation failed:\", e)\n"
      ],
      "metadata": {
        "colab": {
          "base_uri": "https://localhost:8080/",
          "height": 627
        },
        "id": "hv0iPEIx1RRV",
        "outputId": "fc982b4e-0621-4449-d9ea-1a85047b3b0d"
      },
      "execution_count": 52,
      "outputs": [
        {
          "output_type": "stream",
          "name": "stdout",
          "text": [
            "contributions progress: |████████████████████████████████████████████████████████| (done) 100%\n"
          ]
        },
        {
          "output_type": "stream",
          "name": "stderr",
          "text": [
            "/usr/local/lib/python3.11/dist-packages/h2o/frame.py:1983: H2ODependencyWarning: Converting H2O frame to pandas dataframe using single-thread.  For faster conversion using multi-thread, install polars and pyarrow and use it as pandas_df = h2o_df.as_data_frame(use_multi_thread=True)\n",
            "\n",
            "  warnings.warn(\"Converting H2O frame to pandas dataframe using single-thread.  For faster conversion using\"\n"
          ]
        },
        {
          "output_type": "display_data",
          "data": {
            "text/plain": [
              "<Figure size 1200x600 with 1 Axes>"
            ],
            "image/png": "[encoded data removed]"
          },
          "metadata": {}
        }
      ]
    },
    {
      "cell_type": "code",
      "source": [
        "model_path = h2o.save_model(model=best_model, path=\"./\", force=True)\n",
        "print(f\"Model saved to: {model_path}\")\n"
      ],
      "metadata": {
        "colab": {
          "base_uri": "https://localhost:8080/"
        },
        "id": "Mfv7QNeQ6lty",
        "outputId": "97305673-5804-4635-cd92-7a9852ca8b6b"
      },
      "execution_count": 53,
      "outputs": [
        {
          "output_type": "stream",
          "name": "stdout",
          "text": [
            "Model saved to: /content/GBM_grid_1_AutoML_1_20250807_144050_model_2\n"
          ]
        }
      ]
    },
    {
      "cell_type": "code",
      "source": [],
      "metadata": {
        "id": "LU-B_tWN1uWe"
      },
      "execution_count": null,
      "outputs": []
    }
  ]
}